{
 "cells": [
  {
   "cell_type": "code",
   "execution_count": null,
   "id": "9145d760",
   "metadata": {},
   "outputs": [],
   "source": [
    "import pandas as pd\n",
    "import numpy as np"
   ]
  },
  {
   "cell_type": "code",
   "execution_count": null,
   "id": "85f6cf94",
   "metadata": {},
   "outputs": [],
   "source": [
    "#Load the cosmetics dataset\n",
    "df=pd.read_csv(\"cosmetics.csv\")\n"
   ]
  },
  {
   "cell_type": "code",
   "execution_count": null,
   "id": "d20dad75",
   "metadata": {},
   "outputs": [],
   "source": [
    "#inspect the dataset - display first few rows\n",
    "display(df.head)\n"
   ]
  },
  {
   "cell_type": "code",
   "execution_count": null,
   "id": "513dffb8",
   "metadata": {},
   "outputs": [],
   "source": [
    "#Check the sructur of dataset and types of column\n",
    "df.head()"
   ]
  },
  {
   "cell_type": "code",
   "execution_count": null,
   "id": "9de16694",
   "metadata": {},
   "outputs": [],
   "source": [
    "#count the number of unique product categories in the  dataset\n",
    "print(df['Label'].value_counts())"
   ]
  },
  {
   "cell_type": "code",
   "execution_count": null,
   "id": "669dd975",
   "metadata": {},
   "outputs": [],
   "source": [
    "#Filter dataset for Moisturizer targeting dry skin  \n",
    "moisturizers=df[df['Label']=='Moisturizer']\n",
    "moisturizers_dry=moisturizers[moisturizers['Dry']==1].reset_index(drop=True)\n"
   ]
  },
  {
   "cell_type": "code",
   "execution_count": null,
   "id": "bec3e603",
   "metadata": {},
   "outputs": [],
   "source": [
    "#Tokenize the ingredients\n",
    "corpus=[]\n",
    "for product in moisturizers_dry['Ingredients']:\n",
    "    tokens=product.lower().split(', ') #Split ingredients into individual components\n",
    "    corpus.append(tokens)\n",
    "    \n",
    "    "
   ]
  },
  {
   "cell_type": "code",
   "execution_count": null,
   "id": "95eb0cfe",
   "metadata": {},
   "outputs": [],
   "source": [
    "#Display a sample of the tokenized ingredients\n",
    "print(corpus[:2])"
   ]
  },
  {
   "cell_type": "code",
   "execution_count": null,
   "id": "ae4ad73b",
   "metadata": {},
   "outputs": [],
   "source": [
    "from sklearn.feature_extraction.text import CountVectorizer\n"
   ]
  },
  {
   "cell_type": "code",
   "execution_count": null,
   "id": "0898b9cd",
   "metadata": {},
   "outputs": [],
   "source": [
    "#Create a document-term matrix\n",
    "vectorizer=CountVectorizer(tokenizer=lambda x: x.split(', '))\n",
    "dtm=vectorizer.fit_transform(moisturizers_dry['Ingredients'])"
   ]
  },
  {
   "cell_type": "code",
   "execution_count": null,
   "id": "a7c7a661",
   "metadata": {},
   "outputs": [],
   "source": [
    "#convert the matrix to a dense array\n",
    "ingredient_matrix=dtm.toarray()\n"
   ]
  },
  {
   "cell_type": "code",
   "execution_count": null,
   "id": "c22984f5",
   "metadata": {},
   "outputs": [],
   "source": [
    "#Get the feature names(Ingredients)\n",
    "ingredients=vectorizer.get_feature_names_out()\n",
    "print(ingredients[:10])#Display the first ten unique ingredients"
   ]
  },
  {
   "cell_type": "code",
   "execution_count": null,
   "id": "f4cafaaf",
   "metadata": {},
   "outputs": [],
   "source": [
    "from sklearn.manifold import TSNE"
   ]
  },
  {
   "cell_type": "code",
   "execution_count": null,
   "id": "5473c7a8",
   "metadata": {},
   "outputs": [],
   "source": [
    "#Apply t-sne to reduce dimensions\n",
    "model=TSNE(n_components=2,random_state=42)\n",
    "tsne_features=model.fit_transform(ingredient_matrix)"
   ]
  },
  {
   "cell_type": "code",
   "execution_count": null,
   "id": "3a1747fd",
   "metadata": {},
   "outputs": [],
   "source": [
    "#Add the t-sne features back to the dataframe\n",
    "#Filter dataset for Moisturizer targeting dry skin  \n",
    "\n",
    "moisturizers_dry['x']=tsne_features[:,0]# x-coordinate\n",
    "moisturizers_dry['y']=tsne_features[:,1]# y-coordinate\n"
   ]
  },
  {
   "cell_type": "code",
   "execution_count": null,
   "id": "a42e6601",
   "metadata": {},
   "outputs": [],
   "source": [
    "from bokeh.plotting import figure,show,ColumnDataSource\n",
    "from bokeh.models import HoverTool\n",
    "from bokeh.io import output_notebook\n",
    "output_notebook()"
   ]
  },
  {
   "cell_type": "code",
   "execution_count": null,
   "id": "288e677a",
   "metadata": {},
   "outputs": [],
   "source": [
    "#Create a ColumnDataSource for Bokeh\n",
    "source=ColumnDataSource(moisturizers_dry)"
   ]
  },
  {
   "cell_type": "code",
   "execution_count": null,
   "id": "994b29d9",
   "metadata": {},
   "outputs": [],
   "source": [
    "#Creat a scatterplot\n",
    "plot=figure(title=\"Cosmtic Ingredient Similarity\",\n",
    "x_axis_label='T-SNE 1',y_axis_label='T-SNE 2',plot_width=300,plot_height=400)\n",
    "\n"
   ]
  },
  {
   "cell_type": "code",
   "execution_count": null,
   "id": "856c654f",
   "metadata": {},
   "outputs": [],
   "source": [
    "# #Add circles to represent products\n",
    "plot.circle(x='x',y='y',size=10,source=source,color=\"navy\",alpha=0.6)\n"
   ]
  },
  {
   "cell_type": "code",
   "execution_count": null,
   "id": "b2d53959",
   "metadata": {},
   "outputs": [],
   "source": [
    "#Add hover tool to show product details\n",
    "hover=HoverTool(tooltips=[(\"Product\",\"@`Product Name`\"),(\"Brand\",\"@Brand\"),(\"Price\",\"@Price\")])\n",
    "plot.add_tools(hover)"
   ]
  },
  {
   "cell_type": "code",
   "execution_count": null,
   "id": "010cc50e",
   "metadata": {},
   "outputs": [],
   "source": [
    "show(plot)"
   ]
  },
  {
   "cell_type": "code",
   "execution_count": null,
   "id": "c6929441",
   "metadata": {},
   "outputs": [],
   "source": [
    "#Adding hover funtionality (already implemented in the visualization code above)\n",
    "plot.add_tools(HoverTool(tooltips=[(\"Brand\",\"@Brand\"),(\"Product\",\"@`Product Name`\"),(\"Price\",\"@Price\")]))"
   ]
  },
  {
   "cell_type": "code",
   "execution_count": null,
   "id": "912829a4",
   "metadata": {},
   "outputs": [],
   "source": [
    "show(plot)"
   ]
  },
  {
   "cell_type": "code",
   "execution_count": null,
   "id": "c297d651",
   "metadata": {},
   "outputs": [],
   "source": [
    "#Example of how we can analyze nearest products using distances\n",
    "from sklearn.metrics.pairwise import cosine_similarity\n"
   ]
  },
  {
   "cell_type": "code",
   "execution_count": null,
   "id": "82e7f1c7",
   "metadata": {},
   "outputs": [],
   "source": [
    "#Calculate similarity between products\n",
    "similarity_matrix=cosine_similarity(ingredient_matrix)"
   ]
  },
  {
   "cell_type": "code",
   "execution_count": null,
   "id": "05c57a90",
   "metadata": {},
   "outputs": [],
   "source": [
    "#function to find top similar products for a given product\n",
    "def recommend_similar_product(product_idx,top_n=5):\n",
    "    similarity_scores=similarity_matrix[product_idx]\n",
    "    similar_indices=similarity_scores.argsort()[::-1][1:top_n+1]\n",
    "    return moisturizers_dry.iloc[similar_indices][['Product Name','Brand','Price']]\n",
    "\n",
    "\n"
   ]
  },
  {
   "cell_type": "code",
   "execution_count": null,
   "id": "3090fc57",
   "metadata": {},
   "outputs": [],
   "source": [
    "#Example:Recommend proucts similar to the first product\n",
    "recommend_similar_product(0)"
   ]
  },
  {
   "cell_type": "code",
   "execution_count": null,
   "id": "dc5b00cc",
   "metadata": {},
   "outputs": [],
   "source": []
  }
 ],
 "metadata": {
  "kernelspec": {
   "display_name": "Python 3 (ipykernel)",
   "language": "python",
   "name": "python3"
  },
  "language_info": {
   "codemirror_mode": {
    "name": "ipython",
    "version": 3
   },
   "file_extension": ".py",
   "mimetype": "text/x-python",
   "name": "python",
   "nbconvert_exporter": "python",
   "pygments_lexer": "ipython3",
   "version": "3.9.13"
  }
 },
 "nbformat": 4,
 "nbformat_minor": 5
}
